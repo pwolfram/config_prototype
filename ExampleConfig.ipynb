{
 "cells": [
  {
   "cell_type": "code",
   "execution_count": 1,
   "metadata": {
    "collapsed": false
   },
   "outputs": [
    {
     "name": "stdout",
     "output_type": "stream",
     "text": [
      "{'plotice': False, 'maindir': '\"/\"'}\n"
     ]
    }
   ],
   "source": [
    "config = {'maindir': '/home/users/me', 'plotice': True}\n",
    "\n",
    "# code below the same in all scripts\n",
    "globalconfiguration = 'global_config_example.csh'\n",
    "from config_options import process_config\n",
    "config.update(process_config(globalconfiguration))\n",
    "\n",
    "print config"
   ]
  },
  {
   "cell_type": "code",
   "execution_count": null,
   "metadata": {
    "collapsed": true
   },
   "outputs": [],
   "source": []
  }
 ],
 "metadata": {
  "kernelspec": {
   "display_name": "Python 2",
   "language": "python",
   "name": "python2"
  },
  "language_info": {
   "codemirror_mode": {
    "name": "ipython",
    "version": 2
   },
   "file_extension": ".py",
   "mimetype": "text/x-python",
   "name": "python",
   "nbconvert_exporter": "python",
   "pygments_lexer": "ipython2",
   "version": "2.7.11"
  }
 },
 "nbformat": 4,
 "nbformat_minor": 0
}
