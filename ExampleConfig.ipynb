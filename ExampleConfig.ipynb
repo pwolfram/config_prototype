{
 "cells": [
  {
   "cell_type": "code",
   "execution_count": 1,
   "metadata": {
    "collapsed": false
   },
   "outputs": [
    {
     "name": "stdout",
     "output_type": "stream",
     "text": [
      "{'plotice': True, 'maindir': '/home/users/me'}\n"
     ]
    }
   ],
   "source": [
    "# make config\n",
    "config = {'maindir': '/home/users/me', 'plotice': True}\n",
    "print config"
   ]
  },
  {
   "cell_type": "code",
   "execution_count": 2,
   "metadata": {
    "collapsed": false
   },
   "outputs": [],
   "source": [
    "# save configuration if desired\n",
    "from config_options import write_config\n",
    "write_config(config, 'ExampleConfig.csh')\n",
    "#!cat ExampleConfig.csh"
   ]
  },
  {
   "cell_type": "code",
   "execution_count": 3,
   "metadata": {
    "collapsed": false
   },
   "outputs": [
    {
     "name": "stdout",
     "output_type": "stream",
     "text": [
      "Running from ipython: using local config (no change made)\n",
      "{'plotice': True, 'maindir': '/home/users/me'}\n"
     ]
    }
   ],
   "source": [
    "from config_options import update_config_with_globals\n",
    "config = update_config_with_globals(config)\n",
    "\n",
    "print config"
   ]
  },
  {
   "cell_type": "code",
   "execution_count": null,
   "metadata": {
    "collapsed": true
   },
   "outputs": [],
   "source": []
  }
 ],
 "metadata": {
  "kernelspec": {
   "display_name": "Python 2",
   "language": "python",
   "name": "python2"
  },
  "language_info": {
   "codemirror_mode": {
    "name": "ipython",
    "version": 2
   },
   "file_extension": ".py",
   "mimetype": "text/x-python",
   "name": "python",
   "nbconvert_exporter": "python",
   "pygments_lexer": "ipython2",
   "version": "2.7.11"
  }
 },
 "nbformat": 4,
 "nbformat_minor": 0
}
